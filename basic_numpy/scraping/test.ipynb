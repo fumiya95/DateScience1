{
 "cells": [
  {
   "cell_type": "code",
   "execution_count": 12,
   "metadata": {},
   "outputs": [
    {
     "name": "stdout",
     "output_type": "stream",
     "text": [
      "Requirement already satisfied: beautifulsoup4 in /Users/nemotofumiya/anaconda3/envs/vantan310/lib/python3.10/site-packages (4.12.2)\n",
      "Requirement already satisfied: soupsieve>1.2 in /Users/nemotofumiya/anaconda3/envs/vantan310/lib/python3.10/site-packages (from beautifulsoup4) (2.4)\n",
      "\n",
      "\u001b[1m[\u001b[0m\u001b[34;49mnotice\u001b[0m\u001b[1;39;49m]\u001b[0m\u001b[39;49m A new release of pip is available: \u001b[0m\u001b[31;49m23.3.1\u001b[0m\u001b[39;49m -> \u001b[0m\u001b[32;49m24.2\u001b[0m\n",
      "\u001b[1m[\u001b[0m\u001b[34;49mnotice\u001b[0m\u001b[1;39;49m]\u001b[0m\u001b[39;49m To update, run: \u001b[0m\u001b[32;49mpip install --upgrade pip\u001b[0m\n"
     ]
    }
   ],
   "source": [
    "!pip3 install beautifulsoup4"
   ]
  },
  {
   "cell_type": "code",
   "execution_count": 13,
   "metadata": {},
   "outputs": [],
   "source": [
    "import urllib.request\n",
    "import json\n",
    "from bs4 import BeautifulSoup\n"
   ]
  },
  {
   "cell_type": "code",
   "execution_count": 14,
   "metadata": {},
   "outputs": [],
   "source": [
    "url = 'https://re-management.testing-env.website/news%e4%b8%80%e8%a6%a7/'"
   ]
  },
  {
   "cell_type": "code",
   "execution_count": 15,
   "metadata": {},
   "outputs": [],
   "source": [
    "html = urllib.request.urlopen(url)"
   ]
  },
  {
   "cell_type": "code",
   "execution_count": 16,
   "metadata": {},
   "outputs": [],
   "source": [
    "soup = BeautifulSoup(html, \"html.parser\")"
   ]
  },
  {
   "cell_type": "markdown",
   "metadata": {},
   "source": []
  },
  {
   "cell_type": "code",
   "execution_count": 17,
   "metadata": {},
   "outputs": [
    {
     "data": {
      "text/plain": [
       "\n",
       "<!DOCTYPE html>\n",
       "\n",
       "<html lang=\"ja\" xmlns=\"http://www.w3.org/1999/xhtml\">\n",
       "<head>\n",
       "<meta content=\"text/html; charset=utf-8\" http-equiv=\"Content-Type\"/>\n",
       "<title>re-management</title>\n",
       "<link href=\"https://re-management.testing-env.website/wp-includes/css/dashicons.min.css?ver=6.6.2\" id=\"dashicons-css\" media=\"all\" rel=\"stylesheet\" type=\"text/css\"/>\n",
       "<link href=\"https://re-management.testing-env.website/wp-includes/css/buttons.min.css?ver=6.6.2\" id=\"buttons-css\" media=\"all\" rel=\"stylesheet\" type=\"text/css\"/>\n",
       "<link href=\"https://re-management.testing-env.website/wp-admin/css/forms.min.css?ver=6.6.2\" id=\"forms-css\" media=\"all\" rel=\"stylesheet\" type=\"text/css\"/>\n",
       "<link href=\"https://re-management.testing-env.website/wp-admin/css/l10n.min.css?ver=6.6.2\" id=\"l10n-css\" media=\"all\" rel=\"stylesheet\" type=\"text/css\"/>\n",
       "<link href=\"https://re-management.testing-env.website/wp-admin/css/login.min.css?ver=6.6.2\" id=\"login-css\" media=\"all\" rel=\"stylesheet\" type=\"text/css\"/>\n",
       "<style media=\"screen\">\n",
       "#login_error, .login .message, #loginform { margin-bottom: 20px; }\n",
       ".password-protected-text-below { display: inline-block; text-align: center; margin-top: 30px;}\n",
       ".password-protected-text-above { text-align: center; margin-bottom: 10px;}\n",
       "</style>\n",
       "<meta content=\"noindex, nofollow\" name=\"robots\"/>\n",
       "<meta content=\"width=device-width\" name=\"viewport\"/>\n",
       "</head>\n",
       "<body class=\"login login-password-protected login-action-password-protected-login wp-core-ui\">\n",
       "<div id=\"login\">\n",
       "<h1 id=\"password-protected-logo\"><a href=\"https://re-management.testing-env.website/\" title=\"re-management\">re-management</a></h1>\n",
       "<form action=\"https://re-management.testing-env.website/news%e4%b8%80%e8%a6%a7?password-protected=login&amp;redirect_to=https%3A%2F%2Fre-management.testing-env.website%2Fnews%25e4%25b8%2580%25e8%25a6%25a7%2F\" id=\"loginform\" method=\"post\" name=\"loginform\">\n",
       "<p>\n",
       "</p>\n",
       "<!--\n",
       "\t\tWe are removing this field PP-245\n",
       "             <p>\n",
       "                <label for=\"password_protected_pass\">パスワード</label>\n",
       "                <input type=\"password\" name=\"password_protected_pwd\" id=\"password_protected_pass\" class=\"input\" value=\"\" size=\"20\" tabindex=\"20\" autocomplete=\"false\" />\n",
       "            </p>\n",
       "        -->\n",
       "<div class=\"user-pass-wrap\">\n",
       "<label for=\"password_protected_pass\">パスワード</label>\n",
       "<div class=\"wp-pwd\">\n",
       "<input autocomplete=\"false\" class=\"input password-input\" id=\"password_protected_pass\" name=\"password_protected_pwd\" required=\"\" size=\"20\" spellcheck=\"false\" type=\"password\" value=\"\"/>\n",
       "<button aria-label=\"Show password\" class=\"button button-secondary hide-if-no-js wp-hide-pw\" data-toggle=\"0\" id=\"pp-hide-show-password\" type=\"button\">\n",
       "<span aria-hidden=\"true\" class=\"dashicons dashicons-visibility\"></span>\n",
       "</button>\n",
       "</div>\n",
       "</div>\n",
       "<p class=\"submit\">\n",
       "<input class=\"button button-primary button-large\" id=\"wp-submit\" name=\"wp-submit\" tabindex=\"100\" type=\"submit\" value=\"ログイン\">\n",
       "<input name=\"password_protected_cookie_test\" type=\"hidden\" value=\"1\"/>\n",
       "<input name=\"password-protected\" type=\"hidden\" value=\"login\"/>\n",
       "<input name=\"redirect_to\" type=\"hidden\" value=\"https://re-management.testing-env.website/news%e4%b8%80%e8%a6%a7/\"/>\n",
       "</input></p>\n",
       "<div style=\"display: table;clear: both;\"></div>\n",
       "<p>\n",
       "</p>\n",
       "</form>\n",
       "</div>\n",
       "<script>\n",
       "try{document.getElementById('password_protected_pass').focus();}catch(e){}\n",
       "if(typeof wpOnload=='function')wpOnload();\n",
       "try{let s=document.getElementById(\"pp-hide-show-password\");s.addEventListener(\"click\",function(e){e.preventDefault();let t=document.getElementById(\"password_protected_pass\");\"password\"===t.type?(t.type=\"text\",s.innerHTML='<span class=\"dashicons dashicons-hidden\" aria-hidden=\"true\"></span>'):(t.type=\"password\",s.innerHTML='<span class=\"dashicons dashicons-visibility\" aria-hidden=\"true\"></span>')})}catch(e){}\n",
       "</script>\n",
       "<div class=\"clear\"></div>\n",
       "</body>\n",
       "</html>"
      ]
     },
     "execution_count": 17,
     "metadata": {},
     "output_type": "execute_result"
    }
   ],
   "source": [
    "soup"
   ]
  },
  {
   "cell_type": "code",
   "execution_count": 18,
   "metadata": {},
   "outputs": [],
   "source": [
    "posts = soup.find_all(\"div\", class_=\"single_post\")"
   ]
  },
  {
   "cell_type": "code",
   "execution_count": 19,
   "metadata": {},
   "outputs": [],
   "source": [
    "titles = []\n",
    "url_tags = []\n",
    "excerpt_tags = []\n",
    "date_tags = []\n",
    "\n",
    "for post in posts:\n",
    "    titles.append(post.find(\"h2\").text)\n",
    "    url_tags.append(post.find(\"a\", class_=\"single_post_link\", href=True)['href']) if post.find(\"a\", class_=\"single_post_link\", href=True) else url_tags.append('')\n",
    "    p_tags = post.find_all(\"p\")\n",
    "    excerpt_tags.append(p_tags[1].text if len(p_tags) > 1 else '')\n",
    "    date_tags.append(post.find(\"small\").text if post.find(\"small\") else '')"
   ]
  },
  {
   "cell_type": "code",
   "execution_count": 20,
   "metadata": {},
   "outputs": [],
   "source": [
    "post_data  = {\n",
    "    \"title\": titles,\n",
    "    \"url\": url_tags,\n",
    "    \"excerpt\":excerpt_tags,\n",
    "    \"date\":  date_tags\n",
    "}"
   ]
  },
  {
   "cell_type": "code",
   "execution_count": 21,
   "metadata": {},
   "outputs": [
    {
     "data": {
      "text/plain": [
       "{'title': [], 'url': [], 'excerpt': [], 'date': []}"
      ]
     },
     "execution_count": 21,
     "metadata": {},
     "output_type": "execute_result"
    }
   ],
   "source": [
    "post_data"
   ]
  },
  {
   "cell_type": "code",
   "execution_count": 22,
   "metadata": {},
   "outputs": [
    {
     "name": "stdout",
     "output_type": "stream",
     "text": [
      "[]\n"
     ]
    }
   ],
   "source": [
    "data = []\n",
    "for i in range(len(titles)):\n",
    "    to_dict = {\n",
    "        \"title\": titles[i],\n",
    "        \"url\": url_tags[i] if i < len(url_tags) else \"\",\n",
    "        \"excerpt\": excerpt_tags[i] if i < len(excerpt_tags) else \"\",\n",
    "        \"date\": date_tags[i] if i < len(date_tags) else \"\"\n",
    "    }\n",
    "\n",
    "    data.append(to_dict)\n",
    "\n",
    "\n",
    "import json\n",
    "print(json.dumps(data, indent=2, ensure_ascii=False))\n"
   ]
  }
 ],
 "metadata": {
  "kernelspec": {
   "display_name": "vantan310",
   "language": "python",
   "name": "python3"
  },
  "language_info": {
   "codemirror_mode": {
    "name": "ipython",
    "version": 3
   },
   "file_extension": ".py",
   "mimetype": "text/x-python",
   "name": "python",
   "nbconvert_exporter": "python",
   "pygments_lexer": "ipython3",
   "version": "3.10.11"
  }
 },
 "nbformat": 4,
 "nbformat_minor": 2
}
