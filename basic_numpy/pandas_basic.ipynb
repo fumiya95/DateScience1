{
 "cells": [
  {
   "cell_type": "code",
   "execution_count": 178,
   "metadata": {},
   "outputs": [],
   "source": [
    "import pandas as pd\n",
    "import numpy as np"
   ]
  },
  {
   "cell_type": "markdown",
   "metadata": {},
   "source": [
    "##### Pythonのリストから作成\n",
    "\n"
   ]
  },
  {
   "cell_type": "code",
   "execution_count": 179,
   "metadata": {},
   "outputs": [
    {
     "name": "stdout",
     "output_type": "stream",
     "text": [
      "0    10\n",
      "1    20\n",
      "2    30\n",
      "3    40\n",
      "4    50\n",
      "dtype: int64\n"
     ]
    }
   ],
   "source": [
    "import pandas as pd\n",
    "\n",
    "my_list = [10, 20, 30, 40, 50]\n",
    "series = pd.Series(my_list)\n",
    "print(series)"
   ]
  },
  {
   "cell_type": "code",
   "execution_count": 180,
   "metadata": {},
   "outputs": [],
   "source": [
    "import pandas as pd\n",
    "import numpy as np "
   ]
  },
  {
   "cell_type": "code",
   "execution_count": 181,
   "metadata": {},
   "outputs": [
    {
     "name": "stdout",
     "output_type": "stream",
     "text": [
      "0    10\n",
      "1    20\n",
      "2    30\n",
      "dtype: int64\n"
     ]
    }
   ],
   "source": [
    "a = series = pd.Series(np.array([10, 20, 30]))\n",
    "print(a)"
   ]
  },
  {
   "cell_type": "code",
   "execution_count": 182,
   "metadata": {},
   "outputs": [
    {
     "name": "stdout",
     "output_type": "stream",
     "text": [
      "a    10\n",
      "b    20\n",
      "c    30\n",
      "d    40\n",
      "dtype: int64\n"
     ]
    }
   ],
   "source": [
    "s = pd.Series([10, 20, 30, 40], index=['a', 'b', 'c', 'd'])\n",
    "print(s)"
   ]
  },
  {
   "cell_type": "code",
   "execution_count": 183,
   "metadata": {},
   "outputs": [
    {
     "name": "stdout",
     "output_type": "stream",
     "text": [
      "10\n"
     ]
    }
   ],
   "source": [
    "print(s[0])"
   ]
  },
  {
   "cell_type": "code",
   "execution_count": 184,
   "metadata": {},
   "outputs": [
    {
     "name": "stdout",
     "output_type": "stream",
     "text": [
      "10\n"
     ]
    }
   ],
   "source": [
    "print(s['a'])"
   ]
  },
  {
   "cell_type": "code",
   "execution_count": 185,
   "metadata": {},
   "outputs": [
    {
     "name": "stdout",
     "output_type": "stream",
     "text": [
      "a    10\n",
      "d    40\n",
      "dtype: int64\n"
     ]
    }
   ],
   "source": [
    "print(s[['a' , 'd']])"
   ]
  },
  {
   "cell_type": "code",
   "execution_count": 186,
   "metadata": {},
   "outputs": [
    {
     "name": "stdout",
     "output_type": "stream",
     "text": [
      "0    11\n",
      "1    22\n",
      "2    33\n",
      "3    44\n",
      "dtype: int64\n",
      "0    2\n",
      "1    4\n",
      "2    6\n",
      "3    8\n",
      "dtype: int64\n"
     ]
    }
   ],
   "source": [
    "s1 = pd.Series([1, 2, 3, 4])\n",
    "s2 = pd.Series([10, 20, 30, 40])\n",
    "\n",
    "print(s1 + s2)\n",
    "print(s1 * 2)"
   ]
  },
  {
   "cell_type": "code",
   "execution_count": 187,
   "metadata": {},
   "outputs": [
    {
     "name": "stdout",
     "output_type": "stream",
     "text": [
      "0    10\n",
      "4     8\n",
      "dtype: int64\n",
      "2    7\n",
      "dtype: int64\n",
      "1    4\n",
      "3    2\n",
      "dtype: int64\n"
     ]
    }
   ],
   "source": [
    "import pandas as pd\n",
    "\n",
    "# Seriesの作成\n",
    "s = pd.Series([10, 4, 7, 2, 8])\n",
    "\n",
    "# 条件式を使ったデータフィルタリング\n",
    "print(s[s > 7])\n",
    "print(s[s == 7])\n",
    "print(s[s <= 6])"
   ]
  },
  {
   "cell_type": "code",
   "execution_count": 188,
   "metadata": {},
   "outputs": [
    {
     "name": "stdout",
     "output_type": "stream",
     "text": [
      "0    2\n",
      "1    3\n",
      "2    4\n",
      "3    5\n",
      "4    6\n",
      "dtype: int64\n",
      "0     1\n",
      "1     4\n",
      "2     9\n",
      "3    16\n",
      "4    25\n",
      "dtype: int64\n"
     ]
    }
   ],
   "source": [
    "import pandas as pd\n",
    "\n",
    "# リストからSeriesを作成\n",
    "s = pd.Series([1, 2, 3, 4, 5])\n",
    "\n",
    "# ラムダ関数を使用\n",
    "f = lambda x: x + 1\n",
    "print(s.apply(f))\n",
    "\n",
    "# 自作の関数\n",
    "def square(x):\n",
    "    return x ** 2\n",
    "\n",
    "# applyメソッドで自作の関数を適用\n",
    "print(s.apply(square))"
   ]
  },
  {
   "cell_type": "code",
   "execution_count": 189,
   "metadata": {},
   "outputs": [
    {
     "name": "stdout",
     "output_type": "stream",
     "text": [
      "元データ:| 山田太郎さん | 山田 太郎 |山田 太郎さん\n",
      "自作関数実行後:|山田太郎|山田太郎|山田太郎\n"
     ]
    }
   ],
   "source": [
    "import pandas as pd\n",
    "\n",
    "def clean_text(text):\n",
    "    # 前処理の処理を記述\n",
    "    cleaned = text.strip().lower().replace('さん', '').replace(' ', '')\n",
    "    return cleaned\n",
    "\n",
    "text_s = pd.Series([' 山田太郎さん ', ' 山田 太郎 ', '山田 太郎さん'])\n",
    "print(\"元データ:\", end=\"|\")\n",
    "print(text_s[0], text_s[1], text_s[2], sep=\"|\")\n",
    "\n",
    "cleaned_s = text_s.apply(clean_text)\n",
    "print(\"自作関数実行後:\", end=\"|\")\n",
    "print(cleaned_s[0], cleaned_s[1], cleaned_s[2], sep=\"|\")"
   ]
  },
  {
   "cell_type": "code",
   "execution_count": 190,
   "metadata": {},
   "outputs": [
    {
     "data": {
      "text/plain": [
       "numpy.ndarray"
      ]
     },
     "execution_count": 190,
     "metadata": {},
     "output_type": "execute_result"
    }
   ],
   "source": [
    "type(text_s.values)"
   ]
  },
  {
   "cell_type": "code",
   "execution_count": 191,
   "metadata": {},
   "outputs": [],
   "source": [
    "import pandas as pd"
   ]
  },
  {
   "cell_type": "code",
   "execution_count": 192,
   "metadata": {},
   "outputs": [
    {
     "name": "stdout",
     "output_type": "stream",
     "text": [
      "      Name  Age\n",
      "0     John   32\n",
      "1    Emily   28\n",
      "2  Michael   41\n"
     ]
    }
   ],
   "source": [
    "\n",
    "\n",
    "data = {'Name': ['John', 'Emily', 'Michael'],\n",
    "        'Age': [32, 28, 41]}\n",
    "df = pd.DataFrame(data)\n",
    "print(df)"
   ]
  },
  {
   "cell_type": "code",
   "execution_count": 193,
   "metadata": {},
   "outputs": [
    {
     "name": "stdout",
     "output_type": "stream",
     "text": [
      "      Name  Age\n",
      "0     John   32\n",
      "1    Emily   28\n",
      "2  Michael   41\n",
      "(3, 2)\n"
     ]
    }
   ],
   "source": [
    "print(df)\n",
    "print(df.shape)"
   ]
  },
  {
   "cell_type": "code",
   "execution_count": 194,
   "metadata": {},
   "outputs": [
    {
     "name": "stdout",
     "output_type": "stream",
     "text": [
      "         Age\n",
      "Name        \n",
      "John      32\n",
      "Emily     28\n",
      "Michael   41\n"
     ]
    }
   ],
   "source": [
    "df = df.set_index('Name')\n",
    "print(df)"
   ]
  },
  {
   "cell_type": "code",
   "execution_count": 195,
   "metadata": {},
   "outputs": [
    {
     "name": "stdout",
     "output_type": "stream",
     "text": [
      "      Name  Age\n",
      "0     John   32\n",
      "1    Emily   28\n",
      "2  Michael   41\n",
      "(3, 2)\n"
     ]
    }
   ],
   "source": [
    "df = df.reset_index()\n",
    "print(df)\n",
    "print(df.shape)"
   ]
  },
  {
   "cell_type": "code",
   "execution_count": 196,
   "metadata": {},
   "outputs": [
    {
     "name": "stdout",
     "output_type": "stream",
     "text": [
      "{'Name': {0: 'John', 1: 'Emily', 2: 'Michael'}, 'Age': {0: 32, 1: 28, 2: 41}}\n"
     ]
    }
   ],
   "source": [
    "dict_data = df.to_dict()\n",
    "print(dict_data)"
   ]
  },
  {
   "cell_type": "code",
   "execution_count": 197,
   "metadata": {},
   "outputs": [
    {
     "data": {
      "text/plain": [
       "{'Name': ['John', 'Emily', 'Michael'], 'Age': [32, 28, 41]}"
      ]
     },
     "execution_count": 197,
     "metadata": {},
     "output_type": "execute_result"
    }
   ],
   "source": [
    "dict_data = df.to_dict(orient=\"list\")\n",
    "dict_data"
   ]
  },
  {
   "cell_type": "code",
   "execution_count": 198,
   "metadata": {},
   "outputs": [
    {
     "data": {
      "text/html": [
       "<div>\n",
       "<style scoped>\n",
       "    .dataframe tbody tr th:only-of-type {\n",
       "        vertical-align: middle;\n",
       "    }\n",
       "\n",
       "    .dataframe tbody tr th {\n",
       "        vertical-align: top;\n",
       "    }\n",
       "\n",
       "    .dataframe thead th {\n",
       "        text-align: right;\n",
       "    }\n",
       "</style>\n",
       "<table border=\"1\" class=\"dataframe\">\n",
       "  <thead>\n",
       "    <tr style=\"text-align: right;\">\n",
       "      <th></th>\n",
       "      <th>名前</th>\n",
       "      <th>年齢</th>\n",
       "      <th>都道府県</th>\n",
       "      <th>性別</th>\n",
       "    </tr>\n",
       "  </thead>\n",
       "  <tbody>\n",
       "    <tr>\n",
       "      <th>0</th>\n",
       "      <td>田中</td>\n",
       "      <td>30</td>\n",
       "      <td>東京</td>\n",
       "      <td>男性</td>\n",
       "    </tr>\n",
       "    <tr>\n",
       "      <th>1</th>\n",
       "      <td>鈴木</td>\n",
       "      <td>25</td>\n",
       "      <td>大阪</td>\n",
       "      <td>女性</td>\n",
       "    </tr>\n",
       "    <tr>\n",
       "      <th>2</th>\n",
       "      <td>山田</td>\n",
       "      <td>35</td>\n",
       "      <td>福岡</td>\n",
       "      <td>男性</td>\n",
       "    </tr>\n",
       "  </tbody>\n",
       "</table>\n",
       "</div>"
      ],
      "text/plain": [
       "   名前  年齢 都道府県  性別\n",
       "0  田中  30   東京  男性\n",
       "1  鈴木  25   大阪  女性\n",
       "2  山田  35   福岡  男性"
      ]
     },
     "execution_count": 198,
     "metadata": {},
     "output_type": "execute_result"
    }
   ],
   "source": [
    "# DataFrameの作成\n",
    "\n",
    "data = {\n",
    "\n",
    "    '名前': ['田中', '鈴木', '山田'],\n",
    "\n",
    "    '年齢': [30, 25, 35],\n",
    "\n",
    "    '都道府県': ['東京', '大阪', '福岡'],\n",
    "\n",
    "    '性別': ['男性', '女性', '男性']\n",
    "\n",
    "}\n",
    "\n",
    "df = pd.DataFrame(data)\n",
    "\n",
    "\n",
    "\n",
    "df"
   ]
  },
  {
   "cell_type": "code",
   "execution_count": 199,
   "metadata": {},
   "outputs": [
    {
     "data": {
      "text/plain": [
       "array([['田中', 30, '東京', '男性'],\n",
       "       ['鈴木', 25, '大阪', '女性'],\n",
       "       ['山田', 35, '福岡', '男性']], dtype=object)"
      ]
     },
     "execution_count": 199,
     "metadata": {},
     "output_type": "execute_result"
    }
   ],
   "source": [
    "df.values"
   ]
  },
  {
   "cell_type": "code",
   "execution_count": 200,
   "metadata": {},
   "outputs": [
    {
     "name": "stdout",
     "output_type": "stream",
     "text": [
      "<class 'numpy.ndarray'>\n"
     ]
    }
   ],
   "source": [
    "print(type(df.values))"
   ]
  },
  {
   "cell_type": "code",
   "execution_count": 201,
   "metadata": {},
   "outputs": [
    {
     "name": "stdout",
     "output_type": "stream",
     "text": [
      "['田中' '鈴木' '山田']\n",
      "<class 'numpy.ndarray'>\n"
     ]
    }
   ],
   "source": [
    "print(df['名前'].values)\n",
    "print(type(df['名前'].values))"
   ]
  },
  {
   "cell_type": "markdown",
   "metadata": {},
   "source": [
    "#行の選択"
   ]
  },
  {
   "cell_type": "code",
   "execution_count": 202,
   "metadata": {},
   "outputs": [
    {
     "name": "stdout",
     "output_type": "stream",
     "text": [
      "名前      田中\n",
      "年齢      30\n",
      "都道府県    東京\n",
      "性別      男性\n",
      "Name: 0, dtype: object\n",
      "-------------\n",
      "名前      山田\n",
      "年齢      35\n",
      "都道府県    福岡\n",
      "性別      男性\n",
      "Name: 2, dtype: object\n"
     ]
    }
   ],
   "source": [
    "print(df.iloc[0], end=\"\\n-------------\\n\")\n",
    "\n",
    "print(df.iloc[2])"
   ]
  },
  {
   "cell_type": "code",
   "execution_count": 203,
   "metadata": {},
   "outputs": [
    {
     "name": "stdout",
     "output_type": "stream",
     "text": [
      "   名前  年齢 都道府県  性別\n",
      "0  田中  30   東京  男性\n",
      "2  山田  35   福岡  男性\n",
      "   名前  年齢 都道府県  性別\n",
      "0  田中  30   東京  男性\n",
      "1  鈴木  25   大阪  女性\n"
     ]
    }
   ],
   "source": [
    "print(df.iloc[[0, 2]])\n",
    "print(df.iloc[0:2])"
   ]
  },
  {
   "cell_type": "markdown",
   "metadata": {},
   "source": [
    "条件で選ぶ"
   ]
  },
  {
   "cell_type": "code",
   "execution_count": 204,
   "metadata": {},
   "outputs": [
    {
     "data": {
      "text/html": [
       "<div>\n",
       "<style scoped>\n",
       "    .dataframe tbody tr th:only-of-type {\n",
       "        vertical-align: middle;\n",
       "    }\n",
       "\n",
       "    .dataframe tbody tr th {\n",
       "        vertical-align: top;\n",
       "    }\n",
       "\n",
       "    .dataframe thead th {\n",
       "        text-align: right;\n",
       "    }\n",
       "</style>\n",
       "<table border=\"1\" class=\"dataframe\">\n",
       "  <thead>\n",
       "    <tr style=\"text-align: right;\">\n",
       "      <th></th>\n",
       "      <th>名前</th>\n",
       "      <th>年齢</th>\n",
       "      <th>都道府県</th>\n",
       "      <th>性別</th>\n",
       "    </tr>\n",
       "  </thead>\n",
       "  <tbody>\n",
       "    <tr>\n",
       "      <th>0</th>\n",
       "      <td>田中</td>\n",
       "      <td>30</td>\n",
       "      <td>東京</td>\n",
       "      <td>男性</td>\n",
       "    </tr>\n",
       "    <tr>\n",
       "      <th>2</th>\n",
       "      <td>山田</td>\n",
       "      <td>35</td>\n",
       "      <td>福岡</td>\n",
       "      <td>男性</td>\n",
       "    </tr>\n",
       "  </tbody>\n",
       "</table>\n",
       "</div>"
      ],
      "text/plain": [
       "   名前  年齢 都道府県  性別\n",
       "0  田中  30   東京  男性\n",
       "2  山田  35   福岡  男性"
      ]
     },
     "execution_count": 204,
     "metadata": {},
     "output_type": "execute_result"
    }
   ],
   "source": [
    "df[df['年齢']>=30]"
   ]
  },
  {
   "cell_type": "code",
   "execution_count": 205,
   "metadata": {},
   "outputs": [
    {
     "data": {
      "text/html": [
       "<div>\n",
       "<style scoped>\n",
       "    .dataframe tbody tr th:only-of-type {\n",
       "        vertical-align: middle;\n",
       "    }\n",
       "\n",
       "    .dataframe tbody tr th {\n",
       "        vertical-align: top;\n",
       "    }\n",
       "\n",
       "    .dataframe thead th {\n",
       "        text-align: right;\n",
       "    }\n",
       "</style>\n",
       "<table border=\"1\" class=\"dataframe\">\n",
       "  <thead>\n",
       "    <tr style=\"text-align: right;\">\n",
       "      <th></th>\n",
       "      <th>名前</th>\n",
       "      <th>年齢</th>\n",
       "      <th>都道府県</th>\n",
       "      <th>性別</th>\n",
       "    </tr>\n",
       "  </thead>\n",
       "  <tbody>\n",
       "    <tr>\n",
       "      <th>0</th>\n",
       "      <td>田中</td>\n",
       "      <td>30</td>\n",
       "      <td>東京</td>\n",
       "      <td>男性</td>\n",
       "    </tr>\n",
       "  </tbody>\n",
       "</table>\n",
       "</div>"
      ],
      "text/plain": [
       "   名前  年齢 都道府県  性別\n",
       "0  田中  30   東京  男性"
      ]
     },
     "execution_count": 205,
     "metadata": {},
     "output_type": "execute_result"
    }
   ],
   "source": [
    "df[df['都道府県'] == \"東京\"]"
   ]
  },
  {
   "cell_type": "code",
   "execution_count": 206,
   "metadata": {},
   "outputs": [
    {
     "name": "stdout",
     "output_type": "stream",
     "text": [
      "   名前  年齢 都道府県  性別\n",
      "0  田中  30   東京  男性\n",
      "1  鈴木  25   大阪  女性\n",
      "2  山田  35   福岡  男性\n",
      "3  木下  16   愛知  男性\n"
     ]
    }
   ],
   "source": [
    "new_row = pd.DataFrame({'名前': ['木下'], '年齢': [16], '都道府県': ['愛知'], '性別': ['男性']})\n",
    "df = pd.concat([df, new_row], ignore_index=True)\n",
    "print(df)"
   ]
  },
  {
   "cell_type": "code",
   "execution_count": 207,
   "metadata": {},
   "outputs": [
    {
     "name": "stdout",
     "output_type": "stream",
     "text": [
      "   名前  年齢 都道府県  性別\n",
      "0  田中  30   東京  男性\n",
      "1  鈴木  25   大阪  女性\n",
      "2  山田  35   福岡  男性\n",
      "3  木下  16   愛知  男性\n",
      "4  佐藤  35   大阪  女性\n"
     ]
    }
   ],
   "source": [
    "# 新しいSeriesを作成\n",
    "new_row2 = pd.Series(['佐藤', 35, '大阪', '女性'], index=['名前', '年齢', '都道府県', '性別'])\n",
    "\n",
    "# Seriesをデータフレームに変換してconcatする\n",
    "df = pd.concat([df, pd.DataFrame([new_row2])], ignore_index=True)\n",
    "print(df)"
   ]
  },
  {
   "cell_type": "code",
   "execution_count": 208,
   "metadata": {},
   "outputs": [
    {
     "name": "stdout",
     "output_type": "stream",
     "text": [
      "   名前  年齢 都道府県  性別\n",
      "0  佐藤  35   大阪  女性\n",
      "       0\n",
      "名前    佐藤\n",
      "年齢    35\n",
      "都道府県  大阪\n",
      "性別    女性\n"
     ]
    }
   ],
   "source": [
    "print(pd.DataFrame([new_row2]))\n",
    "\n",
    "print(pd.DataFrame(new_row2))"
   ]
  },
  {
   "cell_type": "code",
   "execution_count": 209,
   "metadata": {},
   "outputs": [
    {
     "name": "stdout",
     "output_type": "stream",
     "text": [
      "   名前  年齢 都道府県  性別\n",
      "1  鈴木  25   大阪  女性\n",
      "2  山田  35   福岡  男性\n",
      "3  木下  16   愛知  男性\n",
      "4  佐藤  35   大阪  女性\n"
     ]
    }
   ],
   "source": [
    "df = df.drop(0)\n",
    "print(df)"
   ]
  },
  {
   "cell_type": "code",
   "execution_count": 210,
   "metadata": {},
   "outputs": [
    {
     "name": "stdout",
     "output_type": "stream",
     "text": [
      "   名前  年齢 都道府県  性別\n",
      "0  鈴木  25   大阪  女性\n",
      "1  山田  35   福岡  男性\n",
      "2  木下  16   愛知  男性\n",
      "3  佐藤  35   大阪  女性\n"
     ]
    }
   ],
   "source": [
    "df = df.reset_index(drop=True)\n",
    "print(df)"
   ]
  },
  {
   "cell_type": "code",
   "execution_count": 211,
   "metadata": {},
   "outputs": [
    {
     "name": "stdout",
     "output_type": "stream",
     "text": [
      "   名前  年齢 都道府県  性別\n",
      "0  鈴木  25   大阪  女性\n",
      "1  山田  15   福岡  男性\n",
      "2  木下  16   愛知  男性\n",
      "3  佐藤  35   大阪  女性\n"
     ]
    }
   ],
   "source": [
    "df.loc[1, '年齢'] = 15\n",
    "print(df)"
   ]
  },
  {
   "cell_type": "code",
   "execution_count": 212,
   "metadata": {},
   "outputs": [
    {
     "data": {
      "text/html": [
       "<div>\n",
       "<style scoped>\n",
       "    .dataframe tbody tr th:only-of-type {\n",
       "        vertical-align: middle;\n",
       "    }\n",
       "\n",
       "    .dataframe tbody tr th {\n",
       "        vertical-align: top;\n",
       "    }\n",
       "\n",
       "    .dataframe thead th {\n",
       "        text-align: right;\n",
       "    }\n",
       "</style>\n",
       "<table border=\"1\" class=\"dataframe\">\n",
       "  <thead>\n",
       "    <tr style=\"text-align: right;\">\n",
       "      <th></th>\n",
       "      <th>名前</th>\n",
       "      <th>年齢</th>\n",
       "      <th>都道府県</th>\n",
       "      <th>性別</th>\n",
       "    </tr>\n",
       "  </thead>\n",
       "  <tbody>\n",
       "    <tr>\n",
       "      <th>0</th>\n",
       "      <td>田中</td>\n",
       "      <td>30</td>\n",
       "      <td>東京</td>\n",
       "      <td>男性</td>\n",
       "    </tr>\n",
       "    <tr>\n",
       "      <th>1</th>\n",
       "      <td>鈴木</td>\n",
       "      <td>25</td>\n",
       "      <td>大阪</td>\n",
       "      <td>女性</td>\n",
       "    </tr>\n",
       "    <tr>\n",
       "      <th>2</th>\n",
       "      <td>山田</td>\n",
       "      <td>35</td>\n",
       "      <td>福岡</td>\n",
       "      <td>男性</td>\n",
       "    </tr>\n",
       "  </tbody>\n",
       "</table>\n",
       "</div>"
      ],
      "text/plain": [
       "   名前  年齢 都道府県  性別\n",
       "0  田中  30   東京  男性\n",
       "1  鈴木  25   大阪  女性\n",
       "2  山田  35   福岡  男性"
      ]
     },
     "execution_count": 212,
     "metadata": {},
     "output_type": "execute_result"
    }
   ],
   "source": [
    "data = {\n",
    "\n",
    "    '名前': ['田中', '鈴木', '山田'],\n",
    "\n",
    "    '年齢': [30, 25, 35],\n",
    "\n",
    "    '都道府県': ['東京', '大阪', '福岡'],\n",
    "\n",
    "    '性別': ['男性', '女性', '男性']\n",
    "\n",
    "}\n",
    "\n",
    "df = pd.DataFrame(data)\n",
    "\n",
    "df"
   ]
  },
  {
   "cell_type": "code",
   "execution_count": 213,
   "metadata": {},
   "outputs": [
    {
     "name": "stdout",
     "output_type": "stream",
     "text": [
      "0    田中\n",
      "1    鈴木\n",
      "2    山田\n",
      "Name: 名前, dtype: object\n",
      "0    30\n",
      "1    25\n",
      "2    35\n",
      "Name: 年齢, dtype: int64\n"
     ]
    }
   ],
   "source": [
    "print(df['名前'])\n",
    "print(df['年齢'])"
   ]
  },
  {
   "cell_type": "code",
   "execution_count": 214,
   "metadata": {},
   "outputs": [
    {
     "name": "stdout",
     "output_type": "stream",
     "text": [
      "   名前 都道府県\n",
      "0  田中   東京\n",
      "1  鈴木   大阪\n",
      "2  山田   福岡\n"
     ]
    }
   ],
   "source": [
    "print(df[['名前', '都道府県']])"
   ]
  },
  {
   "cell_type": "code",
   "execution_count": 215,
   "metadata": {},
   "outputs": [
    {
     "name": "stdout",
     "output_type": "stream",
     "text": [
      "0    田中\n",
      "1    鈴木\n",
      "2    山田\n",
      "Name: 名前, dtype: object\n",
      "0    30\n",
      "1    25\n",
      "2    35\n",
      "Name: 年齢, dtype: int64\n"
     ]
    }
   ],
   "source": [
    "print(df.iloc[:, 0])\n",
    "print(df.iloc[:, 1])"
   ]
  },
  {
   "cell_type": "code",
   "execution_count": 216,
   "metadata": {},
   "outputs": [
    {
     "name": "stdout",
     "output_type": "stream",
     "text": [
      "   名前 都道府県\n",
      "0  田中   東京\n",
      "1  鈴木   大阪\n",
      "2  山田   福岡\n",
      "   名前  年齢 都道府県\n",
      "0  田中  30   東京\n",
      "1  鈴木  25   大阪\n",
      "2  山田  35   福岡\n"
     ]
    }
   ],
   "source": [
    "print(df.iloc[:, [0, 2]])\n",
    "print(df.iloc[:, 0: 3])"
   ]
  },
  {
   "cell_type": "code",
   "execution_count": 217,
   "metadata": {},
   "outputs": [
    {
     "name": "stdout",
     "output_type": "stream",
     "text": [
      "   名前  年齢 都道府県  性別   国\n",
      "0  田中  30   東京  男性  日本\n",
      "1  鈴木  25   大阪  女性  日本\n",
      "2  山田  35   福岡  男性  日本\n"
     ]
    }
   ],
   "source": [
    "df['国'] = ['日本' , '日本', '日本']\n",
    "print(df)"
   ]
  },
  {
   "cell_type": "code",
   "execution_count": 218,
   "metadata": {},
   "outputs": [
    {
     "name": "stdout",
     "output_type": "stream",
     "text": [
      "   名前  年齢 都道府県  性別\n",
      "0  田中  30   東京  男性\n",
      "1  鈴木  25   大阪  女性\n",
      "2  山田  35   福岡  男性\n"
     ]
    }
   ],
   "source": [
    "df = df.drop(columns=['国'])\n",
    "\n",
    "print(df)"
   ]
  }
 ],
 "metadata": {
  "kernelspec": {
   "display_name": "vantan310",
   "language": "python",
   "name": "python3"
  },
  "language_info": {
   "codemirror_mode": {
    "name": "ipython",
    "version": 3
   },
   "file_extension": ".py",
   "mimetype": "text/x-python",
   "name": "python",
   "nbconvert_exporter": "python",
   "pygments_lexer": "ipython3",
   "version": "3.10.11"
  }
 },
 "nbformat": 4,
 "nbformat_minor": 2
}
