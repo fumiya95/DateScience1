{
 "cells": [
  {
   "cell_type": "code",
   "execution_count": 42,
   "metadata": {},
   "outputs": [],
   "source": [
    "import pandas as pd\n",
    "\n",
    "data = {\n",
    "\n",
    "    'Name': ['Alice', 'Bob', 'Charlie'],\n",
    "\n",
    "    'Age': [25, 30, 35],\n",
    "\n",
    "    'City': ['New York', 'Los Angeles', 'Chicago'],\n",
    "\n",
    "    'Country': ['USA', 'USA', 'USA']\n",
    "\n",
    "}"
   ]
  },
  {
   "cell_type": "code",
   "execution_count": 43,
   "metadata": {},
   "outputs": [
    {
     "name": "stdout",
     "output_type": "stream",
     "text": [
      "      Name  Age         City Country\n",
      "0    Alice   25     New York     USA\n",
      "1      Bob   30  Los Angeles     USA\n",
      "2  Charlie   35      Chicago     USA\n"
     ]
    }
   ],
   "source": [
    "df = pd.DataFrame(data)\n",
    "print(df)"
   ]
  },
  {
   "cell_type": "code",
   "execution_count": 44,
   "metadata": {},
   "outputs": [
    {
     "name": "stdout",
     "output_type": "stream",
     "text": [
      "      名前  年齢           街   国\n",
      "0    Alice    25     New York  USA\n",
      "1      Bob    30  Los Angeles  USA\n",
      "2  Charlie    35      Chicago  USA\n"
     ]
    }
   ],
   "source": [
    "df.columns = ['名前', '年齢', '街', '国']\n",
    "print(df)"
   ]
  },
  {
   "cell_type": "code",
   "execution_count": 45,
   "metadata": {},
   "outputs": [
    {
     "name": "stdout",
     "output_type": "stream",
     "text": [
      "         年齢           街   国\n",
      "名前                           \n",
      "Alice      25     New York  USA\n",
      "Bob        30  Los Angeles  USA\n",
      "Charlie    35      Chicago  USA\n"
     ]
    }
   ],
   "source": [
    "new_index_df = df.set_index('名前')\n",
    "print(new_index_df)"
   ]
  },
  {
   "cell_type": "code",
   "execution_count": 46,
   "metadata": {},
   "outputs": [
    {
     "name": "stdout",
     "output_type": "stream",
     "text": [
      "      名前  年齢           街   国\n",
      "0    Alice    25     New York  USA\n",
      "1      Bob    30  Los Angeles  USA\n",
      "2  Charlie    35      Chicago  USA\n"
     ]
    }
   ],
   "source": [
    "re_index_df = new_index_df.reset_index()\n",
    "print(re_index_df)"
   ]
  },
  {
   "cell_type": "code",
   "execution_count": 47,
   "metadata": {},
   "outputs": [
    {
     "name": "stdout",
     "output_type": "stream",
     "text": [
      "{'名前': ['Alice', 'Bob', 'Charlie'], '年齢': [25, 30, 35], '街': ['New York', 'Los Angeles', 'Chicago'], '国': ['USA', 'USA', 'USA']}\n"
     ]
    }
   ],
   "source": [
    "column_dict = df.to_dict(orient='list')\n",
    "print(column_dict)"
   ]
  },
  {
   "cell_type": "markdown",
   "metadata": {},
   "source": [
    "問題２"
   ]
  },
  {
   "cell_type": "code",
   "execution_count": 48,
   "metadata": {},
   "outputs": [
    {
     "name": "stdout",
     "output_type": "stream",
     "text": [
      "         名前  年齢    都市  点数\n",
      "0      アリス    12    東京    88\n",
      "1        ボブ    10    大阪    92\n",
      "2  チャーリー    13  名古屋    85\n",
      "3  ディビッド    13    福岡    90\n",
      "4        エマ    14    札幌    95\n"
     ]
    }
   ],
   "source": [
    "import pandas as pd\n",
    "\n",
    "\n",
    "\n",
    "data = {\n",
    "    '名前': ['アリス', 'ボブ', 'チャーリー', 'ディビッド', 'エマ'],\n",
    "    '年齢': [12, 10, 13, 13, 14],\n",
    "    '都市': ['東京', '大阪', '名古屋', '福岡', '札幌'],\n",
    "    '点数': [88, 92, 85, 90, 95]\n",
    "}\n",
    "\n",
    "df = pd.DataFrame(data)\n",
    "print(df)"
   ]
  },
  {
   "cell_type": "code",
   "execution_count": 49,
   "metadata": {},
   "outputs": [
    {
     "name": "stdout",
     "output_type": "stream",
     "text": [
      "     名前  年齢  都市  点数\n",
      "0  アリス    12  東京    88\n",
      "1    ボブ    10  大阪    92\n"
     ]
    }
   ],
   "source": [
    "print(df.iloc[0: 2])"
   ]
  },
  {
   "cell_type": "code",
   "execution_count": 50,
   "metadata": {},
   "outputs": [
    {
     "name": "stdout",
     "output_type": "stream",
     "text": [
      "         名前  年齢    都市  点数\n",
      "2  チャーリー    13  名古屋    85\n",
      "3  ディビッド    13    福岡    90\n",
      "4        エマ    14    札幌    95\n"
     ]
    }
   ],
   "source": [
    "print(df.tail(3))"
   ]
  },
  {
   "cell_type": "code",
   "execution_count": 51,
   "metadata": {},
   "outputs": [
    {
     "name": "stdout",
     "output_type": "stream",
     "text": [
      "         名前  年齢    都市  点数\n",
      "2  チャーリー    13  名古屋    85\n",
      "3  ディビッド    13    福岡    90\n",
      "4        エマ    14    札幌    95\n"
     ]
    }
   ],
   "source": [
    "print(df.iloc[2: 5])"
   ]
  },
  {
   "cell_type": "code",
   "execution_count": 52,
   "metadata": {},
   "outputs": [
    {
     "name": "stdout",
     "output_type": "stream",
     "text": [
      "         名前  年齢    都市  点数\n",
      "0      アリス    12    東京    88\n",
      "2  チャーリー    13  名古屋    85\n"
     ]
    }
   ],
   "source": [
    "print(df.iloc[[0, 2]])"
   ]
  },
  {
   "cell_type": "code",
   "execution_count": 53,
   "metadata": {},
   "outputs": [
    {
     "data": {
      "text/html": [
       "<div>\n",
       "<style scoped>\n",
       "    .dataframe tbody tr th:only-of-type {\n",
       "        vertical-align: middle;\n",
       "    }\n",
       "\n",
       "    .dataframe tbody tr th {\n",
       "        vertical-align: top;\n",
       "    }\n",
       "\n",
       "    .dataframe thead th {\n",
       "        text-align: right;\n",
       "    }\n",
       "</style>\n",
       "<table border=\"1\" class=\"dataframe\">\n",
       "  <thead>\n",
       "    <tr style=\"text-align: right;\">\n",
       "      <th></th>\n",
       "      <th>名前</th>\n",
       "      <th>年齢</th>\n",
       "      <th>都市</th>\n",
       "      <th>点数</th>\n",
       "    </tr>\n",
       "  </thead>\n",
       "  <tbody>\n",
       "    <tr>\n",
       "      <th>0</th>\n",
       "      <td>アリス</td>\n",
       "      <td>12</td>\n",
       "      <td>東京</td>\n",
       "      <td>88</td>\n",
       "    </tr>\n",
       "    <tr>\n",
       "      <th>2</th>\n",
       "      <td>チャーリー</td>\n",
       "      <td>13</td>\n",
       "      <td>名古屋</td>\n",
       "      <td>85</td>\n",
       "    </tr>\n",
       "    <tr>\n",
       "      <th>3</th>\n",
       "      <td>ディビッド</td>\n",
       "      <td>13</td>\n",
       "      <td>福岡</td>\n",
       "      <td>90</td>\n",
       "    </tr>\n",
       "    <tr>\n",
       "      <th>4</th>\n",
       "      <td>エマ</td>\n",
       "      <td>14</td>\n",
       "      <td>札幌</td>\n",
       "      <td>95</td>\n",
       "    </tr>\n",
       "  </tbody>\n",
       "</table>\n",
       "</div>"
      ],
      "text/plain": [
       "         名前  年齢    都市  点数\n",
       "0      アリス    12    東京    88\n",
       "2  チャーリー    13  名古屋    85\n",
       "3  ディビッド    13    福岡    90\n",
       "4        エマ    14    札幌    95"
      ]
     },
     "execution_count": 53,
     "metadata": {},
     "output_type": "execute_result"
    }
   ],
   "source": [
    "df[df['年齢']>=12]"
   ]
  },
  {
   "cell_type": "code",
   "execution_count": 54,
   "metadata": {},
   "outputs": [
    {
     "name": "stdout",
     "output_type": "stream",
     "text": [
      "         名前  年齢  都市  点数\n",
      "1        ボブ    10  大阪    92\n",
      "3  ディビッド    13  福岡    90\n",
      "4        エマ    14  札幌    95\n"
     ]
    }
   ],
   "source": [
    "print(df[df['点数'] >= 90])"
   ]
  },
  {
   "cell_type": "code",
   "execution_count": 55,
   "metadata": {},
   "outputs": [
    {
     "name": "stdout",
     "output_type": "stream",
     "text": [
      "         名前  年齢    都市  点数\n",
      "0      アリス    12    東京    88\n",
      "1        ボブ    10    大阪    92\n",
      "2  チャーリー    13  名古屋    85\n",
      "3  ディビッド    13    福岡    90\n",
      "4        エマ    14    札幌    95\n",
      "5    フレッド    15    京都    87\n"
     ]
    },
    {
     "name": "stderr",
     "output_type": "stream",
     "text": [
      "/var/folders/kb/tk0p38cx0h1d_dtvmbtqb1g00000gn/T/ipykernel_24641/942356180.py:2: FutureWarning: The frame.append method is deprecated and will be removed from pandas in a future version. Use pandas.concat instead.\n",
      "  df = df.append(new, ignore_index=True)\n"
     ]
    }
   ],
   "source": [
    "new = {'名前': 'フレッド', '年齢': 15, '都市': '京都', '点数': 87}\n",
    "df = df.append(new, ignore_index=True)\n",
    "print(df)"
   ]
  },
  {
   "cell_type": "code",
   "execution_count": 56,
   "metadata": {},
   "outputs": [
    {
     "name": "stdout",
     "output_type": "stream",
     "text": [
      "         名前  年齢    都市  点数\n",
      "0      アリス    12    東京    88\n",
      "1        ボブ    10    大阪    92\n",
      "2  チャーリー    13  名古屋    85\n",
      "3  ディビッド    13    福岡    90\n",
      "5    フレッド    15    京都    87\n"
     ]
    }
   ],
   "source": [
    "df = df[df['名前'] != 'エマ']\n",
    "print(df)"
   ]
  },
  {
   "cell_type": "code",
   "execution_count": 57,
   "metadata": {},
   "outputs": [
    {
     "name": "stdout",
     "output_type": "stream",
     "text": [
      "         名前  点数\n",
      "0      アリス    88\n",
      "1        ボブ    92\n",
      "2  チャーリー    85\n",
      "3  ディビッド    90\n",
      "5    フレッド    87\n"
     ]
    }
   ],
   "source": [
    "print(df[['名前', '点数']])"
   ]
  },
  {
   "cell_type": "code",
   "execution_count": 58,
   "metadata": {},
   "outputs": [
    {
     "name": "stdout",
     "output_type": "stream",
     "text": [
      "         名前  年齢  点数\n",
      "0      アリス    12    88\n",
      "1        ボブ    10    92\n",
      "2  チャーリー    13    85\n",
      "3  ディビッド    13    90\n",
      "5    フレッド    15    87\n"
     ]
    }
   ],
   "source": [
    "df = df.drop(columns=['都市'])\n",
    "print(df)"
   ]
  },
  {
   "cell_type": "code",
   "execution_count": 59,
   "metadata": {},
   "outputs": [
    {
     "name": "stdout",
     "output_type": "stream",
     "text": [
      "         名前  年齢  点数 クラス\n",
      "0      アリス    12    88      A\n",
      "1        ボブ    10    92      B\n",
      "2  チャーリー    13    85      A\n",
      "3  ディビッド    13    90      B\n",
      "5    フレッド    15    87      A\n"
     ]
    }
   ],
   "source": [
    "df['クラス'] = ['A', 'B', 'A', 'B', 'A']\n",
    "print(df)"
   ]
  },
  {
   "cell_type": "code",
   "execution_count": 60,
   "metadata": {},
   "outputs": [
    {
     "name": "stdout",
     "output_type": "stream",
     "text": [
      "92\n"
     ]
    }
   ],
   "source": [
    "max_score = df['点数'].max()\n",
    "print(max_score)"
   ]
  },
  {
   "cell_type": "code",
   "execution_count": null,
   "metadata": {},
   "outputs": [],
   "source": []
  },
  {
   "cell_type": "markdown",
   "metadata": {},
   "source": []
  }
 ],
 "metadata": {
  "kernelspec": {
   "display_name": "vantan310",
   "language": "python",
   "name": "python3"
  },
  "language_info": {
   "codemirror_mode": {
    "name": "ipython",
    "version": 3
   },
   "file_extension": ".py",
   "mimetype": "text/x-python",
   "name": "python",
   "nbconvert_exporter": "python",
   "pygments_lexer": "ipython3",
   "version": "3.10.11"
  }
 },
 "nbformat": 4,
 "nbformat_minor": 2
}
